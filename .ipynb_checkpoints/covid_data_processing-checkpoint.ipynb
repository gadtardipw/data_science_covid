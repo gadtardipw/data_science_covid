{
 "cells": [
  {
   "cell_type": "markdown",
   "id": "1f5a1410",
   "metadata": {},
   "source": [
    "Data Science Report on Covid"
   ]
  },
  {
   "cell_type": "code",
   "execution_count": 86,
   "id": "f7aaecb8",
   "metadata": {
    "scrolled": true
   },
   "outputs": [
    {
     "name": "stderr",
     "output_type": "stream",
     "text": [
      "C:\\Users\\gadtardi\\anaconda3\\lib\\site-packages\\IPython\\core\\interactiveshell.py:3441: DtypeWarning: Columns (1) have mixed types.Specify dtype option on import or set low_memory=False.\n",
      "  exec(code_obj, self.user_global_ns, self.user_ns)\n"
     ]
    }
   ],
   "source": [
    "import pandas as pd\n",
    "from sklearn.tree import DecisionTreeClassifier\n",
    "from sklearn.model_selection import train_test_split\n",
    "from sklearn.metrics import accuracy_score\n",
    "import joblib\n",
    "from sklearn import tree\n",
    "\n",
    "covid_data = pd.read_csv('COVID.csv')\n",
    "\n"
   ]
  },
  {
   "cell_type": "markdown",
   "id": "0e17dcab",
   "metadata": {},
   "source": [
    "display head of data"
   ]
  },
  {
   "cell_type": "code",
   "execution_count": 3,
   "id": "bb98d11b",
   "metadata": {},
   "outputs": [
    {
     "data": {
      "text/html": [
       "<div>\n",
       "<style scoped>\n",
       "    .dataframe tbody tr th:only-of-type {\n",
       "        vertical-align: middle;\n",
       "    }\n",
       "\n",
       "    .dataframe tbody tr th {\n",
       "        vertical-align: top;\n",
       "    }\n",
       "\n",
       "    .dataframe thead th {\n",
       "        text-align: right;\n",
       "    }\n",
       "</style>\n",
       "<table border=\"1\" class=\"dataframe\">\n",
       "  <thead>\n",
       "    <tr style=\"text-align: right;\">\n",
       "      <th></th>\n",
       "      <th>cdc_report_dt</th>\n",
       "      <th>pos_spec_dt</th>\n",
       "      <th>onset_dt</th>\n",
       "      <th>current_status</th>\n",
       "      <th>sex</th>\n",
       "      <th>age_group</th>\n",
       "      <th>Race and ethnicity (combined)</th>\n",
       "      <th>hosp_yn</th>\n",
       "      <th>icu_yn</th>\n",
       "      <th>death_yn</th>\n",
       "      <th>medcond_yn</th>\n",
       "    </tr>\n",
       "  </thead>\n",
       "  <tbody>\n",
       "    <tr>\n",
       "      <th>0</th>\n",
       "      <td>2020/06/30</td>\n",
       "      <td>NaN</td>\n",
       "      <td>NaN</td>\n",
       "      <td>Probable Case</td>\n",
       "      <td>Other</td>\n",
       "      <td>0 - 9 Years</td>\n",
       "      <td>Unknown</td>\n",
       "      <td>Unknown</td>\n",
       "      <td>Unknown</td>\n",
       "      <td>No</td>\n",
       "      <td>Unknown</td>\n",
       "    </tr>\n",
       "    <tr>\n",
       "      <th>1</th>\n",
       "      <td>2020/06/30</td>\n",
       "      <td>NaN</td>\n",
       "      <td>NaN</td>\n",
       "      <td>Probable Case</td>\n",
       "      <td>Other</td>\n",
       "      <td>0 - 9 Years</td>\n",
       "      <td>Unknown</td>\n",
       "      <td>Unknown</td>\n",
       "      <td>Unknown</td>\n",
       "      <td>No</td>\n",
       "      <td>Unknown</td>\n",
       "    </tr>\n",
       "    <tr>\n",
       "      <th>2</th>\n",
       "      <td>2020/07/05</td>\n",
       "      <td>NaN</td>\n",
       "      <td>NaN</td>\n",
       "      <td>Laboratory-confirmed case</td>\n",
       "      <td>Other</td>\n",
       "      <td>0 - 9 Years</td>\n",
       "      <td>Unknown</td>\n",
       "      <td>Missing</td>\n",
       "      <td>Missing</td>\n",
       "      <td>Missing</td>\n",
       "      <td>Missing</td>\n",
       "    </tr>\n",
       "    <tr>\n",
       "      <th>3</th>\n",
       "      <td>2020/06/10</td>\n",
       "      <td>NaN</td>\n",
       "      <td>2020/03/27</td>\n",
       "      <td>Probable Case</td>\n",
       "      <td>Other</td>\n",
       "      <td>0 - 9 Years</td>\n",
       "      <td>Unknown</td>\n",
       "      <td>No</td>\n",
       "      <td>Unknown</td>\n",
       "      <td>No</td>\n",
       "      <td>Unknown</td>\n",
       "    </tr>\n",
       "    <tr>\n",
       "      <th>4</th>\n",
       "      <td>2020/07/13</td>\n",
       "      <td>NaN</td>\n",
       "      <td>2020/04/20</td>\n",
       "      <td>Probable Case</td>\n",
       "      <td>Other</td>\n",
       "      <td>0 - 9 Years</td>\n",
       "      <td>Unknown</td>\n",
       "      <td>No</td>\n",
       "      <td>Unknown</td>\n",
       "      <td>No</td>\n",
       "      <td>Unknown</td>\n",
       "    </tr>\n",
       "  </tbody>\n",
       "</table>\n",
       "</div>"
      ],
      "text/plain": [
       "  cdc_report_dt pos_spec_dt    onset_dt             current_status    sex  \\\n",
       "0    2020/06/30         NaN         NaN              Probable Case  Other   \n",
       "1    2020/06/30         NaN         NaN              Probable Case  Other   \n",
       "2    2020/07/05         NaN         NaN  Laboratory-confirmed case  Other   \n",
       "3    2020/06/10         NaN  2020/03/27              Probable Case  Other   \n",
       "4    2020/07/13         NaN  2020/04/20              Probable Case  Other   \n",
       "\n",
       "     age_group Race and ethnicity (combined)  hosp_yn   icu_yn death_yn  \\\n",
       "0  0 - 9 Years                       Unknown  Unknown  Unknown       No   \n",
       "1  0 - 9 Years                       Unknown  Unknown  Unknown       No   \n",
       "2  0 - 9 Years                       Unknown  Missing  Missing  Missing   \n",
       "3  0 - 9 Years                       Unknown       No  Unknown       No   \n",
       "4  0 - 9 Years                       Unknown       No  Unknown       No   \n",
       "\n",
       "  medcond_yn  \n",
       "0    Unknown  \n",
       "1    Unknown  \n",
       "2    Missing  \n",
       "3    Unknown  \n",
       "4    Unknown  "
      ]
     },
     "execution_count": 3,
     "metadata": {},
     "output_type": "execute_result"
    }
   ],
   "source": [
    "covid_data.head()"
   ]
  },
  {
   "cell_type": "markdown",
   "id": "f23f3728",
   "metadata": {},
   "source": [
    "data info"
   ]
  },
  {
   "cell_type": "code",
   "execution_count": 4,
   "id": "2abd1ba3",
   "metadata": {},
   "outputs": [
    {
     "name": "stdout",
     "output_type": "stream",
     "text": [
      "<class 'pandas.core.frame.DataFrame'>\n",
      "RangeIndex: 5760066 entries, 0 to 5760065\n",
      "Data columns (total 11 columns):\n",
      " #   Column                         Dtype \n",
      "---  ------                         ----- \n",
      " 0   cdc_report_dt                  object\n",
      " 1   pos_spec_dt                    object\n",
      " 2   onset_dt                       object\n",
      " 3   current_status                 object\n",
      " 4   sex                            object\n",
      " 5   age_group                      object\n",
      " 6   Race and ethnicity (combined)  object\n",
      " 7   hosp_yn                        object\n",
      " 8   icu_yn                         object\n",
      " 9   death_yn                       object\n",
      " 10  medcond_yn                     object\n",
      "dtypes: object(11)\n",
      "memory usage: 483.4+ MB\n"
     ]
    }
   ],
   "source": [
    "covid_data.info()"
   ]
  },
  {
   "cell_type": "markdown",
   "id": "23de6e5d",
   "metadata": {},
   "source": [
    "remove unused columns"
   ]
  },
  {
   "cell_type": "code",
   "execution_count": 5,
   "id": "eb6d4dc0",
   "metadata": {},
   "outputs": [
    {
     "name": "stdout",
     "output_type": "stream",
     "text": [
      "<class 'pandas.core.frame.DataFrame'>\n",
      "RangeIndex: 5760066 entries, 0 to 5760065\n",
      "Data columns (total 7 columns):\n",
      " #   Column          Dtype \n",
      "---  ------          ----- \n",
      " 0   current_status  object\n",
      " 1   sex             object\n",
      " 2   age_group       object\n",
      " 3   hosp_yn         object\n",
      " 4   icu_yn          object\n",
      " 5   death_yn        object\n",
      " 6   medcond_yn      object\n",
      "dtypes: object(7)\n",
      "memory usage: 307.6+ MB\n"
     ]
    }
   ],
   "source": [
    "covid_data = covid_data.drop([covid_data.columns[0], covid_data.columns[1],covid_data.columns[2],covid_data.columns[6]], axis = 1)\n",
    "covid_data.info()"
   ]
  },
  {
   "cell_type": "markdown",
   "id": "0e6b70b5",
   "metadata": {},
   "source": [
    "remove missings"
   ]
  },
  {
   "cell_type": "code",
   "execution_count": 6,
   "id": "745d6224",
   "metadata": {
    "scrolled": true
   },
   "outputs": [
    {
     "name": "stdout",
     "output_type": "stream",
     "text": [
      "current_status     0\n",
      "hosp_yn            0\n",
      "icu_yn             0\n",
      "death_yn           0\n",
      "medcond_yn         0\n",
      "sex               15\n",
      "age_group         92\n",
      "dtype: int64\n"
     ]
    }
   ],
   "source": [
    "nullcount = covid_data.isna().sum()\n",
    "print(nullcount.sort_values())"
   ]
  },
  {
   "cell_type": "code",
   "execution_count": 7,
   "id": "de04a7a4",
   "metadata": {},
   "outputs": [
    {
     "name": "stdout",
     "output_type": "stream",
     "text": [
      "current_status    0\n",
      "sex               0\n",
      "age_group         0\n",
      "hosp_yn           0\n",
      "icu_yn            0\n",
      "death_yn          0\n",
      "medcond_yn        0\n",
      "dtype: int64\n"
     ]
    }
   ],
   "source": [
    "covid_data = covid_data.dropna()\n",
    "nullcount = covid_data.isna().sum()\n",
    "print(nullcount.sort_values())"
   ]
  },
  {
   "cell_type": "code",
   "execution_count": 8,
   "id": "087360c6",
   "metadata": {},
   "outputs": [
    {
     "data": {
      "text/html": [
       "<div>\n",
       "<style scoped>\n",
       "    .dataframe tbody tr th:only-of-type {\n",
       "        vertical-align: middle;\n",
       "    }\n",
       "\n",
       "    .dataframe tbody tr th {\n",
       "        vertical-align: top;\n",
       "    }\n",
       "\n",
       "    .dataframe thead th {\n",
       "        text-align: right;\n",
       "    }\n",
       "</style>\n",
       "<table border=\"1\" class=\"dataframe\">\n",
       "  <thead>\n",
       "    <tr style=\"text-align: right;\">\n",
       "      <th></th>\n",
       "      <th>current_status</th>\n",
       "      <th>sex</th>\n",
       "      <th>age_group</th>\n",
       "      <th>hosp_yn</th>\n",
       "      <th>icu_yn</th>\n",
       "      <th>death_yn</th>\n",
       "      <th>medcond_yn</th>\n",
       "    </tr>\n",
       "  </thead>\n",
       "  <tbody>\n",
       "    <tr>\n",
       "      <th>count</th>\n",
       "      <td>5759974</td>\n",
       "      <td>5759974</td>\n",
       "      <td>5759974</td>\n",
       "      <td>5759974</td>\n",
       "      <td>5759974</td>\n",
       "      <td>5759974</td>\n",
       "      <td>5759974</td>\n",
       "    </tr>\n",
       "    <tr>\n",
       "      <th>unique</th>\n",
       "      <td>2</td>\n",
       "      <td>5</td>\n",
       "      <td>10</td>\n",
       "      <td>4</td>\n",
       "      <td>4</td>\n",
       "      <td>4</td>\n",
       "      <td>4</td>\n",
       "    </tr>\n",
       "    <tr>\n",
       "      <th>top</th>\n",
       "      <td>Laboratory-confirmed case</td>\n",
       "      <td>Female</td>\n",
       "      <td>20 - 29 Years</td>\n",
       "      <td>No</td>\n",
       "      <td>Missing</td>\n",
       "      <td>No</td>\n",
       "      <td>Missing</td>\n",
       "    </tr>\n",
       "    <tr>\n",
       "      <th>freq</th>\n",
       "      <td>5462695</td>\n",
       "      <td>2964314</td>\n",
       "      <td>1127849</td>\n",
       "      <td>2549617</td>\n",
       "      <td>4153317</td>\n",
       "      <td>2662911</td>\n",
       "      <td>3976470</td>\n",
       "    </tr>\n",
       "  </tbody>\n",
       "</table>\n",
       "</div>"
      ],
      "text/plain": [
       "                   current_status      sex      age_group  hosp_yn   icu_yn  \\\n",
       "count                     5759974  5759974        5759974  5759974  5759974   \n",
       "unique                          2        5             10        4        4   \n",
       "top     Laboratory-confirmed case   Female  20 - 29 Years       No  Missing   \n",
       "freq                      5462695  2964314        1127849  2549617  4153317   \n",
       "\n",
       "       death_yn medcond_yn  \n",
       "count   5759974    5759974  \n",
       "unique        4          4  \n",
       "top          No    Missing  \n",
       "freq    2662911    3976470  "
      ]
     },
     "execution_count": 8,
     "metadata": {},
     "output_type": "execute_result"
    }
   ],
   "source": [
    "covid_data.describe()"
   ]
  },
  {
   "cell_type": "markdown",
   "id": "7f12d1cb",
   "metadata": {},
   "source": [
    "checking"
   ]
  },
  {
   "cell_type": "code",
   "execution_count": 9,
   "id": "d8834fc0",
   "metadata": {},
   "outputs": [
    {
     "data": {
      "text/plain": [
       "array(['Probable Case', 'Laboratory-confirmed case'], dtype=object)"
      ]
     },
     "execution_count": 9,
     "metadata": {},
     "output_type": "execute_result"
    }
   ],
   "source": [
    "covid_data.current_status.unique()"
   ]
  },
  {
   "cell_type": "code",
   "execution_count": 10,
   "id": "f46e8f4f",
   "metadata": {},
   "outputs": [
    {
     "data": {
      "text/plain": [
       "array(['Other', 'Male', 'Missing', 'Unknown', 'Female'], dtype=object)"
      ]
     },
     "execution_count": 10,
     "metadata": {},
     "output_type": "execute_result"
    }
   ],
   "source": [
    "covid_data.sex.unique()"
   ]
  },
  {
   "cell_type": "code",
   "execution_count": 11,
   "id": "3ffe7716",
   "metadata": {},
   "outputs": [
    {
     "data": {
      "text/plain": [
       "array(['0 - 9 Years', '10 - 19 Years', '20 - 29 Years', '30 - 39 Years',\n",
       "       '40 - 49 Years', '50 - 59 Years', '60 - 69 Years', '70 - 79 Years',\n",
       "       '80+ Years', 'Unknown'], dtype=object)"
      ]
     },
     "execution_count": 11,
     "metadata": {},
     "output_type": "execute_result"
    }
   ],
   "source": [
    "covid_data.age_group.unique()"
   ]
  },
  {
   "cell_type": "code",
   "execution_count": 12,
   "id": "e2d69a06",
   "metadata": {},
   "outputs": [
    {
     "data": {
      "text/plain": [
       "array(['Unknown', 'Missing', 'No', 'Yes'], dtype=object)"
      ]
     },
     "execution_count": 12,
     "metadata": {},
     "output_type": "execute_result"
    }
   ],
   "source": [
    "covid_data.hosp_yn.unique()"
   ]
  },
  {
   "cell_type": "code",
   "execution_count": 13,
   "id": "704e4b5f",
   "metadata": {},
   "outputs": [
    {
     "data": {
      "text/plain": [
       "array(['Unknown', 'Missing', 'No', 'Yes'], dtype=object)"
      ]
     },
     "execution_count": 13,
     "metadata": {},
     "output_type": "execute_result"
    }
   ],
   "source": [
    "covid_data.icu_yn.unique()"
   ]
  },
  {
   "cell_type": "code",
   "execution_count": 14,
   "id": "c90f222a",
   "metadata": {},
   "outputs": [
    {
     "data": {
      "text/plain": [
       "array(['No', 'Missing', 'Unknown', 'Yes'], dtype=object)"
      ]
     },
     "execution_count": 14,
     "metadata": {},
     "output_type": "execute_result"
    }
   ],
   "source": [
    "covid_data.death_yn.unique()"
   ]
  },
  {
   "cell_type": "code",
   "execution_count": 15,
   "id": "66806def",
   "metadata": {},
   "outputs": [
    {
     "data": {
      "text/plain": [
       "array(['Unknown', 'Missing', 'Yes', 'No'], dtype=object)"
      ]
     },
     "execution_count": 15,
     "metadata": {},
     "output_type": "execute_result"
    }
   ],
   "source": [
    "covid_data.medcond_yn.unique()"
   ]
  },
  {
   "cell_type": "markdown",
   "id": "cf56035c",
   "metadata": {},
   "source": [
    "Removal"
   ]
  },
  {
   "cell_type": "code",
   "execution_count": 16,
   "id": "61829acb",
   "metadata": {},
   "outputs": [
    {
     "data": {
      "text/plain": [
       "No         2662911\n",
       "Missing    2321772\n",
       "Unknown     617045\n",
       "Yes         158246\n",
       "Name: death_yn, dtype: int64"
      ]
     },
     "execution_count": 16,
     "metadata": {},
     "output_type": "execute_result"
    }
   ],
   "source": [
    "covid_data['death_yn'].value_counts()"
   ]
  },
  {
   "cell_type": "code",
   "execution_count": 40,
   "id": "20077c08",
   "metadata": {},
   "outputs": [
    {
     "data": {
      "text/plain": [
       "No     2662911\n",
       "Yes     158246\n",
       "Name: death_yn, dtype: int64"
      ]
     },
     "execution_count": 40,
     "metadata": {},
     "output_type": "execute_result"
    }
   ],
   "source": [
    "values1 = ['Missing', 'Unknown']\n",
    "\n",
    "covid_data = covid_data[covid_data.death_yn.isin(values1) == False]\n",
    "covid_data['death_yn'].value_counts()"
   ]
  },
  {
   "cell_type": "code",
   "execution_count": 17,
   "id": "eb5bb06a",
   "metadata": {},
   "outputs": [
    {
     "data": {
      "text/plain": [
       "array(['Male', 'Female'], dtype=object)"
      ]
     },
     "execution_count": 17,
     "metadata": {},
     "output_type": "execute_result"
    }
   ],
   "source": [
    "\n",
    "covid_data = covid_data[(covid_data != 'Unknown').all(axis=1)]\n",
    "covid_data = covid_data[(covid_data != 'Missing').all(axis=1)]\n",
    "covid_data = covid_data[(covid_data != 'Other').all(axis=1)]\n",
    "covid_data.sex.unique()"
   ]
  },
  {
   "cell_type": "code",
   "execution_count": 47,
   "id": "da999277",
   "metadata": {},
   "outputs": [
    {
     "data": {
      "text/html": [
       "<div>\n",
       "<style scoped>\n",
       "    .dataframe tbody tr th:only-of-type {\n",
       "        vertical-align: middle;\n",
       "    }\n",
       "\n",
       "    .dataframe tbody tr th {\n",
       "        vertical-align: top;\n",
       "    }\n",
       "\n",
       "    .dataframe thead th {\n",
       "        text-align: right;\n",
       "    }\n",
       "</style>\n",
       "<table border=\"1\" class=\"dataframe\">\n",
       "  <thead>\n",
       "    <tr style=\"text-align: right;\">\n",
       "      <th></th>\n",
       "      <th>current_status</th>\n",
       "      <th>sex</th>\n",
       "      <th>age_group</th>\n",
       "      <th>hosp_yn</th>\n",
       "      <th>icu_yn</th>\n",
       "      <th>death_yn</th>\n",
       "      <th>medcond_yn</th>\n",
       "    </tr>\n",
       "  </thead>\n",
       "  <tbody>\n",
       "    <tr>\n",
       "      <th>count</th>\n",
       "      <td>411800</td>\n",
       "      <td>411800</td>\n",
       "      <td>411800</td>\n",
       "      <td>411800</td>\n",
       "      <td>411800</td>\n",
       "      <td>411800</td>\n",
       "      <td>411800</td>\n",
       "    </tr>\n",
       "    <tr>\n",
       "      <th>unique</th>\n",
       "      <td>2</td>\n",
       "      <td>2</td>\n",
       "      <td>9</td>\n",
       "      <td>2</td>\n",
       "      <td>2</td>\n",
       "      <td>2</td>\n",
       "      <td>2</td>\n",
       "    </tr>\n",
       "    <tr>\n",
       "      <th>top</th>\n",
       "      <td>Laboratory-confirmed case</td>\n",
       "      <td>Female</td>\n",
       "      <td>20 - 29 Years</td>\n",
       "      <td>No</td>\n",
       "      <td>No</td>\n",
       "      <td>No</td>\n",
       "      <td>Yes</td>\n",
       "    </tr>\n",
       "    <tr>\n",
       "      <th>freq</th>\n",
       "      <td>395357</td>\n",
       "      <td>216821</td>\n",
       "      <td>74196</td>\n",
       "      <td>331002</td>\n",
       "      <td>382257</td>\n",
       "      <td>381621</td>\n",
       "      <td>217580</td>\n",
       "    </tr>\n",
       "  </tbody>\n",
       "</table>\n",
       "</div>"
      ],
      "text/plain": [
       "                   current_status     sex      age_group hosp_yn  icu_yn  \\\n",
       "count                      411800  411800         411800  411800  411800   \n",
       "unique                          2       2              9       2       2   \n",
       "top     Laboratory-confirmed case  Female  20 - 29 Years      No      No   \n",
       "freq                       395357  216821          74196  331002  382257   \n",
       "\n",
       "       death_yn medcond_yn  \n",
       "count    411800     411800  \n",
       "unique        2          2  \n",
       "top          No        Yes  \n",
       "freq     381621     217580  "
      ]
     },
     "execution_count": 47,
     "metadata": {},
     "output_type": "execute_result"
    }
   ],
   "source": [
    "covid_data.describe()"
   ]
  },
  {
   "cell_type": "markdown",
   "id": "8b062c13",
   "metadata": {},
   "source": [
    "category encoding"
   ]
  },
  {
   "cell_type": "code",
   "execution_count": 19,
   "id": "5779ca80",
   "metadata": {},
   "outputs": [
    {
     "data": {
      "text/plain": [
       "No     381621\n",
       "Yes     30179\n",
       "Name: death_yn, dtype: int64"
      ]
     },
     "execution_count": 19,
     "metadata": {},
     "output_type": "execute_result"
    }
   ],
   "source": [
    "# current status\n",
    "# not forgetting to separate input and output\n",
    "\n",
    "covid_data = covid_data.replace({'current_status': {'Laboratory-confirmed case': 1,'Probable Case': 0}})\n",
    "covid_data = covid_data.replace({'sex': {'Male': 1,'Female': 0}})\n",
    "covid_data = covid_data.replace({'hosp_yn': {'Yes': 1,'No': 0}})\n",
    "covid_data = covid_data.replace({'icu_yn': {'Yes': 1,'No': 0}})\n",
    "covid_data = covid_data.replace({'medcond_yn': {'Yes': 1,'No': 0}})\n",
    "\n",
    "\n",
    "covid_data = covid_data.replace({'age_group': {'0 - 9 Years': 0,'10 - 19 Years': 1,'20 - 29 Years': 2,'30 - 39 Years': 3,'40 - 49 Years': 4,'50 - 59 Years': 5,'60 - 69 Years': 6,'70 - 79 Years': 7,'80+ Years': 8}})\n",
    "\n",
    "covid_data['death_yn'].value_counts()                            \n",
    "\n",
    "\n"
   ]
  },
  {
   "cell_type": "markdown",
   "id": "35295802",
   "metadata": {},
   "source": [
    "Separating input and output sets"
   ]
  },
  {
   "cell_type": "code",
   "execution_count": 20,
   "id": "8e327e34",
   "metadata": {},
   "outputs": [
    {
     "data": {
      "text/plain": [
       "<bound method NDFrame.head of          current_status  sex  age_group  hosp_yn  icu_yn death_yn  medcond_yn\n",
       "164                   1    1          0        0       0       No           0\n",
       "222                   1    1          0        0       0       No           0\n",
       "237                   1    1          0        0       0       No           0\n",
       "239                   1    1          0        0       0       No           0\n",
       "251                   1    1          0        0       0       No           0\n",
       "...                 ...  ...        ...      ...     ...      ...         ...\n",
       "5760008               1    0          7        0       0       No           1\n",
       "5760024               1    0          7        0       0       No           1\n",
       "5760025               1    0          7        0       0       No           0\n",
       "5760036               1    1          7        1       0       No           0\n",
       "5760063               1    0          7        1       0      Yes           1\n",
       "\n",
       "[411800 rows x 7 columns]>"
      ]
     },
     "execution_count": 20,
     "metadata": {},
     "output_type": "execute_result"
    }
   ],
   "source": [
    "covid_data.head"
   ]
  },
  {
   "cell_type": "code",
   "execution_count": 21,
   "id": "c166cda5",
   "metadata": {},
   "outputs": [
    {
     "data": {
      "text/html": [
       "<div>\n",
       "<style scoped>\n",
       "    .dataframe tbody tr th:only-of-type {\n",
       "        vertical-align: middle;\n",
       "    }\n",
       "\n",
       "    .dataframe tbody tr th {\n",
       "        vertical-align: top;\n",
       "    }\n",
       "\n",
       "    .dataframe thead th {\n",
       "        text-align: right;\n",
       "    }\n",
       "</style>\n",
       "<table border=\"1\" class=\"dataframe\">\n",
       "  <thead>\n",
       "    <tr style=\"text-align: right;\">\n",
       "      <th></th>\n",
       "      <th>current_status</th>\n",
       "      <th>sex</th>\n",
       "      <th>age_group</th>\n",
       "      <th>hosp_yn</th>\n",
       "      <th>icu_yn</th>\n",
       "      <th>medcond_yn</th>\n",
       "    </tr>\n",
       "  </thead>\n",
       "  <tbody>\n",
       "    <tr>\n",
       "      <th>count</th>\n",
       "      <td>411800.000000</td>\n",
       "      <td>411800.000000</td>\n",
       "      <td>411800.000000</td>\n",
       "      <td>411800.000000</td>\n",
       "      <td>411800.000000</td>\n",
       "      <td>411800.000000</td>\n",
       "    </tr>\n",
       "    <tr>\n",
       "      <th>mean</th>\n",
       "      <td>0.960070</td>\n",
       "      <td>0.473480</td>\n",
       "      <td>3.987351</td>\n",
       "      <td>0.196207</td>\n",
       "      <td>0.071741</td>\n",
       "      <td>0.528363</td>\n",
       "    </tr>\n",
       "    <tr>\n",
       "      <th>std</th>\n",
       "      <td>0.195794</td>\n",
       "      <td>0.499297</td>\n",
       "      <td>2.105956</td>\n",
       "      <td>0.397127</td>\n",
       "      <td>0.258059</td>\n",
       "      <td>0.499195</td>\n",
       "    </tr>\n",
       "    <tr>\n",
       "      <th>min</th>\n",
       "      <td>0.000000</td>\n",
       "      <td>0.000000</td>\n",
       "      <td>0.000000</td>\n",
       "      <td>0.000000</td>\n",
       "      <td>0.000000</td>\n",
       "      <td>0.000000</td>\n",
       "    </tr>\n",
       "    <tr>\n",
       "      <th>25%</th>\n",
       "      <td>1.000000</td>\n",
       "      <td>0.000000</td>\n",
       "      <td>2.000000</td>\n",
       "      <td>0.000000</td>\n",
       "      <td>0.000000</td>\n",
       "      <td>0.000000</td>\n",
       "    </tr>\n",
       "    <tr>\n",
       "      <th>50%</th>\n",
       "      <td>1.000000</td>\n",
       "      <td>0.000000</td>\n",
       "      <td>4.000000</td>\n",
       "      <td>0.000000</td>\n",
       "      <td>0.000000</td>\n",
       "      <td>1.000000</td>\n",
       "    </tr>\n",
       "    <tr>\n",
       "      <th>75%</th>\n",
       "      <td>1.000000</td>\n",
       "      <td>1.000000</td>\n",
       "      <td>6.000000</td>\n",
       "      <td>0.000000</td>\n",
       "      <td>0.000000</td>\n",
       "      <td>1.000000</td>\n",
       "    </tr>\n",
       "    <tr>\n",
       "      <th>max</th>\n",
       "      <td>1.000000</td>\n",
       "      <td>1.000000</td>\n",
       "      <td>8.000000</td>\n",
       "      <td>1.000000</td>\n",
       "      <td>1.000000</td>\n",
       "      <td>1.000000</td>\n",
       "    </tr>\n",
       "  </tbody>\n",
       "</table>\n",
       "</div>"
      ],
      "text/plain": [
       "       current_status            sex      age_group        hosp_yn  \\\n",
       "count   411800.000000  411800.000000  411800.000000  411800.000000   \n",
       "mean         0.960070       0.473480       3.987351       0.196207   \n",
       "std          0.195794       0.499297       2.105956       0.397127   \n",
       "min          0.000000       0.000000       0.000000       0.000000   \n",
       "25%          1.000000       0.000000       2.000000       0.000000   \n",
       "50%          1.000000       0.000000       4.000000       0.000000   \n",
       "75%          1.000000       1.000000       6.000000       0.000000   \n",
       "max          1.000000       1.000000       8.000000       1.000000   \n",
       "\n",
       "              icu_yn     medcond_yn  \n",
       "count  411800.000000  411800.000000  \n",
       "mean        0.071741       0.528363  \n",
       "std         0.258059       0.499195  \n",
       "min         0.000000       0.000000  \n",
       "25%         0.000000       0.000000  \n",
       "50%         0.000000       1.000000  \n",
       "75%         0.000000       1.000000  \n",
       "max         1.000000       1.000000  "
      ]
     },
     "execution_count": 21,
     "metadata": {},
     "output_type": "execute_result"
    }
   ],
   "source": [
    "covid_data.describe()"
   ]
  },
  {
   "cell_type": "code",
   "execution_count": 22,
   "id": "389b953b",
   "metadata": {},
   "outputs": [
    {
     "name": "stdout",
     "output_type": "stream",
     "text": [
      "<class 'pandas.core.frame.DataFrame'>\n",
      "Int64Index: 411800 entries, 164 to 5760063\n",
      "Data columns (total 7 columns):\n",
      " #   Column          Non-Null Count   Dtype \n",
      "---  ------          --------------   ----- \n",
      " 0   current_status  411800 non-null  int64 \n",
      " 1   sex             411800 non-null  int64 \n",
      " 2   age_group       411800 non-null  int64 \n",
      " 3   hosp_yn         411800 non-null  int64 \n",
      " 4   icu_yn          411800 non-null  int64 \n",
      " 5   death_yn        411800 non-null  object\n",
      " 6   medcond_yn      411800 non-null  int64 \n",
      "dtypes: int64(6), object(1)\n",
      "memory usage: 25.1+ MB\n"
     ]
    }
   ],
   "source": [
    "covid_data.info()"
   ]
  },
  {
   "cell_type": "code",
   "execution_count": 27,
   "id": "5b4ec5bc",
   "metadata": {},
   "outputs": [
    {
     "data": {
      "text/plain": [
       "164         No\n",
       "222         No\n",
       "237         No\n",
       "239         No\n",
       "251         No\n",
       "          ... \n",
       "5760008     No\n",
       "5760024     No\n",
       "5760025     No\n",
       "5760036     No\n",
       "5760063    Yes\n",
       "Name: death_yn, Length: 411800, dtype: object"
      ]
     },
     "execution_count": 27,
     "metadata": {},
     "output_type": "execute_result"
    }
   ],
   "source": [
    "X = covid_data.drop(columns=['death_yn'])\n",
    "y = covid_data['death_yn']\n",
    "y"
   ]
  },
  {
   "cell_type": "code",
   "execution_count": 28,
   "id": "dec6083f",
   "metadata": {},
   "outputs": [
    {
     "name": "stdout",
     "output_type": "stream",
     "text": [
      "<class 'pandas.core.frame.DataFrame'>\n",
      "Int64Index: 411800 entries, 164 to 5760063\n",
      "Data columns (total 6 columns):\n",
      " #   Column          Non-Null Count   Dtype\n",
      "---  ------          --------------   -----\n",
      " 0   current_status  411800 non-null  int64\n",
      " 1   sex             411800 non-null  int64\n",
      " 2   age_group       411800 non-null  int64\n",
      " 3   hosp_yn         411800 non-null  int64\n",
      " 4   icu_yn          411800 non-null  int64\n",
      " 5   medcond_yn      411800 non-null  int64\n",
      "dtypes: int64(6)\n",
      "memory usage: 22.0 MB\n"
     ]
    }
   ],
   "source": [
    "X.info()"
   ]
  },
  {
   "cell_type": "markdown",
   "id": "92ac0e56",
   "metadata": {},
   "source": [
    "making the model"
   ]
  },
  {
   "cell_type": "code",
   "execution_count": 30,
   "id": "ecebb25a",
   "metadata": {},
   "outputs": [
    {
     "data": {
      "text/plain": [
       "array(['No'], dtype=object)"
      ]
     },
     "execution_count": 30,
     "metadata": {},
     "output_type": "execute_result"
    }
   ],
   "source": [
    "model = DecisionTreeClassifier()\n",
    "model.fit(X,y)\n",
    "predictions1 = model.predict([[1,1,2,1,1,1]])\n",
    "predictions1"
   ]
  },
  {
   "cell_type": "code",
   "execution_count": 32,
   "id": "b8322efa",
   "metadata": {},
   "outputs": [
    {
     "data": {
      "text/plain": [
       "array(['No', 'Yes'], dtype=object)"
      ]
     },
     "execution_count": 32,
     "metadata": {},
     "output_type": "execute_result"
    }
   ],
   "source": [
    "predictions2 = model.predict([[1,1,2,1,1,1],[1,1,5,1,1,1]])\n",
    "predictions2"
   ]
  },
  {
   "cell_type": "markdown",
   "id": "0cba1e71",
   "metadata": {},
   "source": [
    "splitting between training and testing sets"
   ]
  },
  {
   "cell_type": "code",
   "execution_count": 87,
   "id": "e1325b61",
   "metadata": {},
   "outputs": [],
   "source": [
    "# (input sets for train/testing) (output sets for train/testing)\n",
    "# reserving a randomized 20% of the data for testing, the rest for training every time run if test_size=0.2\n",
    "#test for over/underfitting?\n",
    "\n",
    "X_train, X_test, y_train, y_test = train_test_split(X,y, test_size=0.2)\n",
    "model.fit(X_train,y_train)\n",
    "predictions3 = model.predict(X_test)\n",
    "\n",
    "score = accuracy_score(y_test, predictions3)\n",
    "score\n",
    "\n",
    "#joblib.dump(model, 'COVID_SurvivalModel_0_2.joblib')\n",
    "\n",
    "tree.export_graphviz(model, out_file='COVID_SurvivalModel_0_2.dot',\n",
    "                     feature_names=['current_status','sex','age_group','hosp_yn','icu_yn','medcond_yn' ],\n",
    "                    class_names=y.unique(),\n",
    "                    label='all',\n",
    "                    rounded=True,\n",
    "                    filled=True)\n",
    "\n"
   ]
  },
  {
   "cell_type": "code",
   "execution_count": null,
   "id": "68bab608",
   "metadata": {},
   "outputs": [],
   "source": []
  }
 ],
 "metadata": {
  "kernelspec": {
   "display_name": "Python 3 (ipykernel)",
   "language": "python",
   "name": "python3"
  },
  "language_info": {
   "codemirror_mode": {
    "name": "ipython",
    "version": 3
   },
   "file_extension": ".py",
   "mimetype": "text/x-python",
   "name": "python",
   "nbconvert_exporter": "python",
   "pygments_lexer": "ipython3",
   "version": "3.8.11"
  }
 },
 "nbformat": 4,
 "nbformat_minor": 5
}
